{
 "cells": [
  {
   "cell_type": "code",
   "execution_count": null,
   "id": "892d922e",
   "metadata": {},
   "outputs": [],
   "source": [
    "pip install pandas"
   ]
  },
  {
   "cell_type": "code",
   "execution_count": 1,
   "id": "f1e2128d-94be-4103-8a63-769676e3c222",
   "metadata": {},
   "outputs": [],
   "source": [
    "import json\n",
    "import pandas as pd"
   ]
  },
  {
   "cell_type": "code",
   "execution_count": 4,
   "id": "3b4919ce-6dec-4160-a8b0-d9cfa96abd07",
   "metadata": {},
   "outputs": [],
   "source": [
    "def convert_json_to_csv(json_file_path, csv_file_path):\n",
    "    with open(json_file_path, \"r\", encoding=\"utf-8\") as file:\n",
    "        data = json.load(file)\n",
    "\n",
    "    rows = []\n",
    "\n",
    "    for item in data:\n",
    "\n",
    "        conversation = item[\"input\"][\"conversation\"]\n",
    "        category = item[\"input\"][\"subject_keyword\"]\n",
    "        output = item[\"output\"]\n",
    "\n",
    "        conversation_text = \"[Conversation]\\n\"\n",
    "        for utterance in conversation:\n",
    "            speaker = f\"화자{utterance['speaker']}\"\n",
    "            text = utterance[\"utterance\"]\n",
    "            conversation_text += f\"{speaker}: {text}\\n\"\n",
    "\n",
    "            category_text = \", \".join(category)\n",
    "\n",
    "            question_text = (\n",
    "                f\"\\n[Question]\\n위 {category_text} 주제에 대한 대화를 요약해주세요.\"\n",
    "            )\n",
    "\n",
    "        instruction_text = conversation_text + question_text\n",
    "\n",
    "        rows.append({\"instruction\": instruction_text, \"output\": output})\n",
    "\n",
    "    df = pd.DataFrame(rows)\n",
    "    df.to_csv(csv_file_path, index=False, encoding=\"utf-8-sig\")"
   ]
  },
  {
   "cell_type": "code",
   "execution_count": 5,
   "id": "059ba8cd-6d9f-4fb5-9699-de0a8a5b8984",
   "metadata": {},
   "outputs": [],
   "source": [
    "# JSON 데이터 파일 경로\n",
    "json_file_path = \"./data/일상대화요약_train.json\"\n",
    "# 결과를 저장할 CSV 파일 경로\n",
    "csv_file_path = \"./data/일상대화요약_train.csv\"\n",
    "\n",
    "convert_json_to_csv(json_file_path, csv_file_path)"
   ]
  },
  {
   "cell_type": "markdown",
   "id": "24bfd21c",
   "metadata": {},
   "source": [
    "### csv로 변환 후 허깅페이스 업로드"
   ]
  }
 ],
 "metadata": {
  "kernelspec": {
   "display_name": "malpyung_test",
   "language": "python",
   "name": "malpyung_test"
  },
  "language_info": {
   "codemirror_mode": {
    "name": "ipython",
    "version": 3
   },
   "file_extension": ".py",
   "mimetype": "text/x-python",
   "name": "python",
   "nbconvert_exporter": "python",
   "pygments_lexer": "ipython3",
   "version": "3.10.14"
  }
 },
 "nbformat": 4,
 "nbformat_minor": 5
}
