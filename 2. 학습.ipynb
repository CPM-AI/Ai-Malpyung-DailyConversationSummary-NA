{
 "cells": [
  {
   "cell_type": "code",
   "execution_count": null,
   "metadata": {},
   "outputs": [],
   "source": [
    "pip install torch\n",
    "pip install transformers\n",
    "pip install peft"
   ]
  },
  {
   "cell_type": "code",
   "execution_count": null,
   "metadata": {},
   "outputs": [],
   "source": [
    "import torch\n",
    "from transformers import AutoModelForCausalLM\n",
    "from peft import PeftModel"
   ]
  },
  {
   "cell_type": "markdown",
   "metadata": {},
   "source": [
    "### Axolotl 라이브러리가 설치되어 있어야함.\n",
    "### https://github.com/axolotl-ai-cloud/axolotl"
   ]
  },
  {
   "cell_type": "code",
   "execution_count": null,
   "metadata": {},
   "outputs": [],
   "source": [
    "# 실제 학습 시\n",
    "# git clone https://github.com/axolotl-ai-cloud/axolotl\n",
    "# cd axolotl\n",
    "# pip3 install packaging ninja\n",
    "# pip3 install -e '.[flash-attn,deepspeed]'"
   ]
  },
  {
   "cell_type": "code",
   "execution_count": null,
   "metadata": {},
   "outputs": [],
   "source": [
    "!accelerate launch -m axolotl.cli.train axolotl/ymls/qlora.yml\n",
    "# axolotl/ymls 경로에 qlora.yml 확인"
   ]
  },
  {
   "cell_type": "markdown",
   "metadata": {},
   "source": [
    "#### 1. axolotl cli merge"
   ]
  },
  {
   "cell_type": "code",
   "execution_count": null,
   "metadata": {},
   "outputs": [],
   "source": [
    "!python3 -m axolotl.cli.merge_lora axolotl/ymls/qlora.yml --lora_model_dir=\"outputs/qlora_output\"\n",
    "# merge 후 outputs/ocelot_qlora 경로에 merge 폴더 생성됨"
   ]
  },
  {
   "cell_type": "markdown",
   "metadata": {},
   "source": [
    "#### axolotl cli merge가 안될경우\n",
    "#### 2. peft merge"
   ]
  },
  {
   "cell_type": "code",
   "execution_count": null,
   "metadata": {},
   "outputs": [],
   "source": [
    "qlora_model = 'outputs/qlora_output'\n",
    "base_model = 'rtzr/ko-gemma-2-9b-it'\n",
    "\n",
    "model = AutoModelForCausalLM.from_pretrained(base_model, torch_dtype=torch.bfloat16, device_map={\"\":0})\n",
    "model = PeftModel.from_pretrained(model, qlora_model)\n",
    "model = model.merge_and_unload()\n",
    "model.save_pretrained('merged_qlora')\n",
    "# outputs 폴더에 merged_qlora 폴더 생성됨"
   ]
  }
 ],
 "metadata": {
  "language_info": {
   "name": "python"
  }
 },
 "nbformat": 4,
 "nbformat_minor": 2
}
